{
 "cells": [
  {
   "cell_type": "code",
   "execution_count": 24,
   "source": [
    "corenlp_dir = './corenlp'\r\n",
    "\r\n",
    "import os\r\n",
    "os.environ[\"CORENLP_HOME\"] = corenlp_dir"
   ],
   "outputs": [],
   "metadata": {}
  },
  {
   "cell_type": "code",
   "execution_count": null,
   "source": [
    "from stanza.server import CoreNLPClient\r\n",
    "client = CoreNLPClient(\r\n",
    "    annotators=['tokenize','ssplit', 'pos', 'lemma', 'ner', 'openie'], \r\n",
    "    memory='4G', \r\n",
    "    endpoint='http://localhost:9000',\r\n",
    "    be_quiet=True)\r\n",
    "print(client)\r\n",
    "\r\n",
    "client.start()\r\n",
    "import time; time.sleep(10)"
   ],
   "outputs": [],
   "metadata": {}
  },
  {
   "cell_type": "code",
   "execution_count": 2,
   "source": [
    "import pandas as pd\r\n",
    "import json\r\n",
    "import networkx as nx\r\n",
    "import matplotlib.pyplot as plt\r\n",
    "from tqdm import tqdm\r\n",
    "\r\n",
    "def load_data(file):\r\n",
    "    with open(file) as f:\r\n",
    "      data = json.load(f)\r\n",
    "    return(data)\r\n",
    "\r\n",
    "def save_data(file, data):\r\n",
    "    with open(file, 'w', encoding=\"utf-8\") as f:\r\n",
    "        json.dump(data, f, indent = 4)\r\n",
    "\r\n",
    "def repl(data):\r\n",
    "    data = data.split(',')\r\n",
    "    for i in range(len(data)):\r\n",
    "        data[i] = data[i].replace(\"[\", \"\")\r\n",
    "        data[i] = data[i].replace(\"]\", \"\")\r\n",
    "        data[i] = data[i].replace(\"'\", \"\")\r\n",
    "        data[i] = data[i].replace('\"', \"\")\r\n",
    "        data[i] = data[i].strip()\r\n",
    "    return data\r\n",
    "\r\n",
    "\r\n",
    "def update_list(data, idd):\r\n",
    "    for i in idd:\r\n",
    "        data['food'][i] = list(set(data['food'][i]))\r\n",
    "        data['count_f'][i] = len(data['food'][i])\r\n",
    "        data['med'][i] = list(set(data['med'][i]))\r\n",
    "        data['count_m'][i] = len(data['med'][i])\r\n",
    "    return data"
   ],
   "outputs": [],
   "metadata": {}
  },
  {
   "cell_type": "code",
   "execution_count": null,
   "source": [
    "df = pd.read_csv(\"bertowy_model_z_food_med.csv\")\r\n",
    "good_df = df[(df['count_f'] != 0) & (df['count_m'] != 0)]\r\n",
    "numb_id = good_df.index.tolist()\r\n",
    "\r\n",
    "text_list = []\r\n",
    "\r\n",
    "for i in numb_id:\r\n",
    "    good_df['med'][i] = repl(good_df['med'][i])\r\n",
    "    good_df['food'][i] = repl(good_df['food'][i])\r\n",
    "    text_list.append(good_df['text'][i])\r\n",
    "\r\n",
    "\r\n",
    "update_list(good_df, numb_id)"
   ],
   "outputs": [],
   "metadata": {}
  },
  {
   "cell_type": "code",
   "execution_count": 27,
   "source": [
    "def get_triples(text):\r\n",
    "  fin_rel = []\r\n",
    "  result = 0\r\n",
    "  relation = []\r\n",
    "  triples = []\r\n",
    "  document = client.annotate(text, output_format='json') \r\n",
    "  for sentence in document['sentences']:\r\n",
    "    for triple in sentence['openie']:\r\n",
    "      triples.append({\r\n",
    "        'Subject': triple['subject'],\r\n",
    "        'Relation': triple['relation'],\r\n",
    "        'Object': triple['object']\r\n",
    "      })\r\n",
    "      relation.append(triple['relation'])\r\n",
    "  \r\n",
    "\r\n",
    "  print(\"Text: \")\r\n",
    "  print(text)\r\n",
    "  print(\"Triples: \")\r\n",
    "  for i in range(len(triples)):\r\n",
    "    print(triples[i])\r\n",
    "  \r\n",
    "  return triples"
   ],
   "outputs": [],
   "metadata": {}
  },
  {
   "cell_type": "code",
   "execution_count": null,
   "source": [
    "list_entitites_food = []\r\n",
    "list_entitites_disease = []\r\n",
    "list_id = []\r\n",
    "for i in numb_id:\r\n",
    "    list_entitites_food.append(good_df['food'][i])\r\n",
    "    list_entitites_disease.append(good_df['med'][i])\r\n",
    "    list_id.append(good_df['id'][i])\r\n"
   ],
   "outputs": [],
   "metadata": {}
  },
  {
   "cell_type": "code",
   "execution_count": null,
   "source": [
    "triples = [get_triples(i) for i in tqdm(text_list)]"
   ],
   "outputs": [],
   "metadata": {}
  },
  {
   "cell_type": "code",
   "execution_count": 19,
   "source": [
    "def checking_triples(triples, numb):    \r\n",
    "    count_triples = 0\r\n",
    "    final_list = []\r\n",
    "    for i in range(len(triples)):\r\n",
    "        count_triples += len(triples[i])\r\n",
    "        dummy = 0\r\n",
    "        for k in range(len(triples[i])):\r\n",
    "            for j in range(len(list_entitites_food[i])):\r\n",
    "                for l in range(len(list_entitites_disease[i])):\r\n",
    "                    if numb == 1:\r\n",
    "                        if ((list_entitites_food[i][j] == triples[i][k]['subject']) and (list_entitites_disease[i][l] == triples[i][k]['object'])):\r\n",
    "                            final_list.append({\"triples\": triples[i][k], \"id\": list_id[i]})\r\n",
    "                            \r\n",
    "                    if numb == 2:\r\n",
    "                        if ((list_entitites_food[i][j] in triples[i][k]['subject']) and (list_entitites_disease[i][l] in triples[i][k]['object'])):\r\n",
    "                            final_list.append({\"triples\": triples[i][k], \"id\": list_id[i]})\r\n",
    "                            \r\n",
    "                    if numb == 3:\r\n",
    "                        if ((list_entitites_food[i][j] in triples[i][k]['subject']) and (list_entitites_disease[i][l] in triples[i][k]['object'])):\r\n",
    "                            final_list.append({\"triples\": triples[i][k], \"id\": list_id[i]})\r\n",
    "                            dummy = 1\r\n",
    "                            if dummy == 1:\r\n",
    "                                break\r\n",
    "                        if dummy == 1:\r\n",
    "                            break\r\n",
    "                    if dummy == 1:\r\n",
    "                        break\r\n",
    "                if dummy == 1:\r\n",
    "                    break\r\n",
    "            if dummy == 1:\r\n",
    "                break\r\n",
    "            \r\n",
    "    print(\"Rozmiar poczatkowy: \", count_triples)\r\n",
    "    print(\"Rozmiar końcowy: \", len(final_list))\r\n",
    "    print(\"Procent poprawnych danych: {:.2f}%\".format((100*len(final_list))/count_triples))\r\n",
    "    print(\"Procent zwróconych trójek: {:.2f}%\".format((100*len(final_list))/len(triples)))\r\n",
    "\r\n",
    "    return final_list"
   ],
   "outputs": [],
   "metadata": {}
  },
  {
   "cell_type": "code",
   "execution_count": null,
   "source": [
    "final_triples = checking_triples(triples,3)"
   ],
   "outputs": [],
   "metadata": {}
  },
  {
   "cell_type": "code",
   "execution_count": 1,
   "source": [
    "def create_df(data):\r\n",
    "\r\n",
    "    subject_list = []\r\n",
    "    relation_list = []\r\n",
    "    object_list = []\r\n",
    "    idiki_list = []\r\n",
    "\r\n",
    "    for i in range(len(data)):\r\n",
    "        subject_list.append(data[i]['triples']['subject'])\r\n",
    "        relation_list.append(data[i]['triples']['relation'])\r\n",
    "        object_list.append(data[i]['triples']['object'])\r\n",
    "        idiki_list.append(data[i]['id'])\r\n",
    "\r\n",
    "    df = pd.DataFrame({\"subject\" : subject_list,  \"relation\" : relation_list, \"object\" : object_list, \"id\" : idiki_list})\r\n",
    "\r\n",
    "    return df"
   ],
   "outputs": [],
   "metadata": {}
  },
  {
   "cell_type": "code",
   "execution_count": null,
   "source": [
    "final_df = create_df(final_triples)\r\n",
    "final_df.to_csv('openie_final_result.csv', index = False)"
   ],
   "outputs": [],
   "metadata": {}
  },
  {
   "cell_type": "code",
   "execution_count": 64,
   "source": [
    "\r\n",
    "def make_graph_relation(data, word):\r\n",
    "    G=nx.from_pandas_edgelist(data[data['relation']==word], \"subject\", \"object\", \r\n",
    "                            edge_attr=True, create_using=nx.MultiDiGraph())\r\n",
    "\r\n",
    "    plt.figure(figsize=(15,15))\r\n",
    "    pos = nx.spring_layout(G, k = 0.5)\r\n",
    "    nx.draw(G, with_labels=True, node_color='skyblue', node_size=1500, edge_cmap=plt.cm.Blues, pos = pos)\r\n",
    "    plt.show()"
   ],
   "outputs": [],
   "metadata": {}
  },
  {
   "cell_type": "code",
   "execution_count": 65,
   "source": [
    "make_graph_relation(final_df, 'is associated with')"
   ],
   "outputs": [],
   "metadata": {}
  }
 ],
 "metadata": {
  "orig_nbformat": 4,
  "language_info": {
   "name": "python",
   "version": "3.8.8",
   "mimetype": "text/x-python",
   "codemirror_mode": {
    "name": "ipython",
    "version": 3
   },
   "pygments_lexer": "ipython3",
   "nbconvert_exporter": "python",
   "file_extension": ".py"
  },
  "kernelspec": {
   "name": "python3",
   "display_name": "Python 3.8.8 64-bit ('ML': conda)"
  },
  "interpreter": {
   "hash": "e0f98b7522bff5336227f70aa564890eb4f66a73335f0e97bf6b4397c9ee1e01"
  }
 },
 "nbformat": 4,
 "nbformat_minor": 2
}