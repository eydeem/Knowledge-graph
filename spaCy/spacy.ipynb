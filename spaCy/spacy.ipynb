{
 "cells": [
  {
   "cell_type": "code",
   "execution_count": null,
   "source": [
    "import pandas as pd\r\n",
    "import spacy\r\n",
    "\r\n",
    "nlp = spacy.load('en_core_web_sm')\r\n",
    "\r\n",
    "from spacy.matcher import Matcher \r\n",
    "from spacy.tokens import Span \r\n",
    "import networkx as nx\r\n",
    "import matplotlib.pyplot as plt\r\n",
    "from tqdm import tqdm\r\n",
    "\r\n",
    "pd.set_option('display.max_colwidth', 200)\r\n",
    "%matplotlib inline"
   ],
   "outputs": [],
   "metadata": {}
  },
  {
   "cell_type": "code",
   "execution_count": null,
   "source": [
    "df = pd.read_csv(\"bertowy_model_z_food_med.csv\")\r\n",
    "df.head()"
   ],
   "outputs": [],
   "metadata": {}
  },
  {
   "cell_type": "code",
   "execution_count": null,
   "source": [
    "def repl(data):\r\n",
    "    data = data.split(',')\r\n",
    "    for i in range(len(data)):\r\n",
    "        data[i] = data[i].replace(\"[\", \"\")\r\n",
    "        data[i] = data[i].replace(\"]\", \"\")\r\n",
    "        data[i] = data[i].replace(\"'\", \"\")\r\n",
    "        data[i] = data[i].replace('\"', \"\")\r\n",
    "        data[i] = data[i].strip()\r\n",
    "    return data\r\n",
    "\r\n",
    "def update_list(data, idd):\r\n",
    "    for i in idd:\r\n",
    "        data['food'][i] = list(set(data['food'][i]))\r\n",
    "        data['count_f'][i] = len(data['food'][i])\r\n",
    "        data['med'][i] = list(set(data['med'][i]))\r\n",
    "        data['count_m'][i] = len(data['med'][i])\r\n",
    "    return data"
   ],
   "outputs": [],
   "metadata": {}
  },
  {
   "cell_type": "code",
   "execution_count": null,
   "source": [
    "good_df = df[(df['count_f'] != 0) & (df['count_m'] != 0)]\r\n",
    "numb_id = good_df.index.tolist()\r\n",
    "\r\n",
    "for i in numb_id:\r\n",
    "    good_df['med'][i] = repl(good_df['med'][i])\r\n",
    "    good_df['food'][i] = repl(good_df['food'][i])\r\n",
    "\r\n",
    "update_list(good_df, numb_id)"
   ],
   "outputs": [],
   "metadata": {}
  },
  {
   "cell_type": "code",
   "execution_count": null,
   "source": [
    "good_df.to_csv('bertowy_model_med_food_together.csv')"
   ],
   "outputs": [],
   "metadata": {}
  },
  {
   "cell_type": "code",
   "execution_count": null,
   "source": [
    "def get_pairs(data):\r\n",
    "\r\n",
    "    list_food = []\r\n",
    "\r\n",
    "    for i in numb_id:\r\n",
    "        for j in range(len(data['food'][i])):\r\n",
    "            for k in range(len(data['med'][i])):\r\n",
    "                list_food.append([data['food'][i][j],data['med'][i][k]])\r\n",
    "\r\n",
    "   \r\n",
    "    return list_food\r\n",
    "\r\n",
    "def get_relation(sent):\r\n",
    "\r\n",
    "  doc = nlp(sent)\r\n",
    "  matcher = Matcher(nlp.vocab)\r\n",
    "\r\n",
    "\r\n",
    "  pattern = [[{'DEP':'ROOT'}, \r\n",
    "            {'DEP':'prep','OP':\"?\"},\r\n",
    "            {'DEP':'agent','OP':\"?\"},  \r\n",
    "            {'POS':'ADJ','OP':\"?\"}]] \r\n",
    "\r\n",
    "\r\n",
    "  matcher.add(\"matching_1\", None, *pattern) \r\n",
    "  matches = matcher(doc)\r\n",
    "  k = len(matches) - 1\r\n",
    "  span = doc[matches[k][1]:matches[k][2]] \r\n",
    "\r\n",
    "  return(span.text)\r\n",
    "\r\n",
    "def multi_rel(rel, data, id):\r\n",
    "    relations = []\r\n",
    "    abst_id = []\r\n",
    "    ff = []\r\n",
    "    for j in id: \r\n",
    "        ff.append(data['count_f'][j] * data['count_m'][j])\r\n",
    "\r\n",
    "\r\n",
    "    for i in range(len(rel)):\r\n",
    "        for k in range(ff[i]):\r\n",
    "            relations.append(rel[i])\r\n",
    "\r\n",
    "\r\n",
    "    return relations\r\n",
    "\r\n",
    "def get_id(data, id):\r\n",
    "    count = 0\r\n",
    "    list_id = []\r\n",
    "    for j in id:\r\n",
    "        count = (data['count_f'][j] * data['count_m'][j])\r\n",
    "        for i in range(count):\r\n",
    "            list_id.append(data['id'][j])\r\n",
    "\r\n",
    "    return list_id"
   ],
   "outputs": [],
   "metadata": {}
  },
  {
   "cell_type": "code",
   "execution_count": null,
   "source": [
    "ent_pairs = get_pairs(good_df)\r\n",
    "relations = [get_relation(i) for i in tqdm(good_df['text'])]\r\n",
    "relations = multi_rel(relations, good_df, numb_id)\r\n",
    "id_numb_list = get_id(good_df, numb_id)"
   ],
   "outputs": [],
   "metadata": {}
  },
  {
   "cell_type": "code",
   "execution_count": null,
   "source": [
    "source = [i[0] for i in ent_pairs]\r\n",
    "target = [i[1] for i in ent_pairs]\r\n",
    "\r\n",
    "triples_df = pd.DataFrame({'source':source, 'target':target, 'edge':relations, 'id': id_numb_list})\r\n",
    "\r\n",
    "triples_df.to_csv('spacy_final_result.csv', index = False)"
   ],
   "outputs": [],
   "metadata": {}
  },
  {
   "cell_type": "code",
   "execution_count": null,
   "source": [
    "def show_triples(choose, word, numb):\r\n",
    "    if choose == 1:\r\n",
    "        print(triples_df[triples_df['edge'] == word][:numb])\r\n",
    "    if choose == 2:\r\n",
    "        print(triples_df[triples_df['source'] == word][:numb])\r\n",
    "    if choose == 3:\r\n",
    "        print(triples_df[triples_df['target'] == word][:numb])    \r\n",
    "    \r\n",
    "def make_graph_relation(word):\r\n",
    "    G=nx.from_pandas_edgelist(triples_df[triples_df['edge']==word], \"source\", \"target\", \r\n",
    "                            edge_attr=True, create_using=nx.MultiDiGraph())\r\n",
    "\r\n",
    "    plt.figure(figsize=(15,15))\r\n",
    "    pos = nx.spring_layout(G, k = 0.5)\r\n",
    "    nx.draw(G, with_labels=True, node_color='skyblue', node_size=1500, edge_cmap=plt.cm.Blues, pos = pos)\r\n",
    "    plt.show()"
   ],
   "outputs": [],
   "metadata": {}
  },
  {
   "cell_type": "code",
   "execution_count": null,
   "source": [
    "# 1 - relation, 2 - food, 3 - med\r\n",
    "show_triples(3, 'cancer', 20)"
   ],
   "outputs": [],
   "metadata": {}
  },
  {
   "cell_type": "code",
   "execution_count": null,
   "source": [
    "make_graph_relation(\"associated\")"
   ],
   "outputs": [],
   "metadata": {}
  }
 ],
 "metadata": {
  "orig_nbformat": 4,
  "language_info": {
   "name": "python"
  }
 },
 "nbformat": 4,
 "nbformat_minor": 2
}